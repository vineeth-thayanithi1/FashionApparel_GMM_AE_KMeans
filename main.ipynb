{
 "cells": [
  {
   "cell_type": "code",
   "execution_count": 2,
   "metadata": {},
   "outputs": [],
   "source": [
    "import keras\n",
    "import numpy as np\n",
    "from keras.models import Model\n",
    "from keras.optimizers import RMSprop\n",
    "from keras.layers import Input,Dense,Flatten,Dropout,merge,Reshape,Conv2D,MaxPooling2D,UpSampling2D,Conv2DTranspose\n",
    "from keras.layers.normalization import BatchNormalization\n",
    "from keras.models import Model,Sequential\n",
    "from keras.optimizers import Adadelta, RMSprop,SGD,Adam\n",
    "from keras import regularizers\n",
    "from keras import backend as K\n",
    "from sklearn.model_selection import train_test_split \n",
    "from sklearn.utils.linear_assignment_ import linear_assignment\n",
    "from sklearn.cluster import KMeans\n",
    "from sklearn.mixture import GaussianMixture\n",
    "from sklearn import metrics\n",
    "import mnist_reader\n",
    "import matplotlib.pyplot as plt\n",
    "from sklearn.mixture import GaussianMixture"
   ]
  },
  {
   "cell_type": "code",
   "execution_count": 4,
   "metadata": {},
   "outputs": [],
   "source": [
    "#import data set \n",
    "X_train, y_train = mnist_reader.load_mnist('data/fashion', kind='train')\n",
    "X_test, y_test = mnist_reader.load_mnist('data/fashion', kind='t10k')\n",
    "X_train1=(np.reshape(X_train,(-1,28,28,1)))/255\n",
    "X_test1=(np.reshape(X_test,(-1,28,28,1)))/255\n",
    "train_set,val_set,train_out,val_out = train_test_split(X_train1,X_train1,test_size=0.2,random_state=12)"
   ]
  },
  {
   "cell_type": "code",
   "execution_count": 5,
   "metadata": {},
   "outputs": [],
   "source": [
    "#linear assignment cost function \n",
    "def cost(cm):\n",
    "    return (- cm + np.max(cm))"
   ]
  },
  {
   "cell_type": "code",
   "execution_count": 6,
   "metadata": {},
   "outputs": [],
   "source": [
    "#reordering confusion matrix for clustering using linear assignment \n",
    "def conf_mat(cm):\n",
    "\n",
    "    indexes = linear_assignment(cost(cm))\n",
    "    js = [e[1] for e in sorted(indexes, key=lambda x: x[0])]\n",
    "    cm2 = cm[:, js]\n",
    "    return cm2"
   ]
  },
  {
   "cell_type": "code",
   "execution_count": 6,
   "metadata": {},
   "outputs": [],
   "source": [
    "#determining the number of clusters using elbow method \n",
    "inertias=[]\n",
    "for i in range(2,13): \n",
    "    #Building and fitting the model \n",
    "    kmeanbasis= KMeans(n_clusters=i).fit(X_train)       \n",
    "    inertias.append(kmeanbasis.inertia_) "
   ]
  },
  {
   "cell_type": "code",
   "execution_count": 10,
   "metadata": {},
   "outputs": [
    {
     "data": {
      "image/png": "[encoded data removed]",
      "text/plain": [
       "<Figure size 432x288 with 1 Axes>"
      ]
     },
     "metadata": {},
     "output_type": "display_data"
    }
   ],
   "source": [
    "#elbow graph\n",
    "plt.plot(range(2,13), inertias) \n",
    "plt.xlabel('K') \n",
    "plt.ylabel('Inertia') \n",
    "plt.title('The Elbow Method using Inertia') \n",
    "plt.show() \n"
   ]
  },
  {
   "cell_type": "code",
   "execution_count": 45,
   "metadata": {},
   "outputs": [
    {
     "data": {
      "text/plain": [
       "KMeans(algorithm='auto', copy_x=True, init='k-means++', max_iter=300,\n",
       "    n_clusters=10, n_init=10, n_jobs=1, precompute_distances='auto',\n",
       "    random_state=None, tol=0.0001, verbose=0)"
      ]
     },
     "execution_count": 45,
     "metadata": {},
     "output_type": "execute_result"
    }
   ],
   "source": [
    "#Fit K-Means Basis with the Train data \n",
    "kmeanbasis.n_clusters =10\n",
    "kmeanbasis.fit(X_train1.reshape(X_train1.shape[0],-1))"
   ]
  },
  {
   "cell_type": "code",
   "execution_count": 46,
   "metadata": {},
   "outputs": [],
   "source": [
    "#confusion matrix for K-Means Basis \n",
    "y_kb = kmeanbasis.predict(X_test1.reshape(X_test1.shape[0],-1))\n",
    "cm_kb= metrics.confusion_matrix(y_test, y_kb)\n",
    "cm_kb2= conf_mat(cm_kb)"
   ]
  },
  {
   "cell_type": "code",
   "execution_count": 55,
   "metadata": {},
   "outputs": [
    {
     "name": "stdout",
     "output_type": "stream",
     "text": [
      "[[587  29   6   0  34  94 244   1   5   0]\n",
      " [ 50 890   0   0   9  22  29   0   0   0]\n",
      " [ 19   4   4   0 566  61 342   0   4   0]\n",
      " [277 503   2   0  10  94 111   0   3   0]\n",
      " [136  27   4   0 627  42 159   0   5   0]\n",
      " [  0   0   0  45   0 650   6 227   0  72]\n",
      " [189  12  15   0 311 116 357   0   0   0]\n",
      " [  0   0   0   2   0  62   0 784   0 152]\n",
      " [  3   6 353   1  61  84  35  39 408  10]\n",
      " [  0   0   0 423   0  29   4  23   2 519]]\n"
     ]
    }
   ],
   "source": [
    "print(cm_kb2)"
   ]
  },
  {
   "cell_type": "code",
   "execution_count": 16,
   "metadata": {},
   "outputs": [],
   "source": [
    "#Architecture of auto encoder \n",
    "autoencoder = Sequential()\n",
    "autoencoder.add(Conv2D(16, (3, 3), activation='relu', padding='same'))\n",
    "autoencoder.add(MaxPooling2D((2, 2), padding='same'))\n",
    "autoencoder.add(Conv2D(8, (3, 3), activation='relu', padding='same'))\n",
    "autoencoder.add(MaxPooling2D((2, 2), padding='same'))\n",
    "autoencoder.add(Conv2D(8, (3, 3), activation='relu', padding='same'))\n",
    "autoencoder.add(MaxPooling2D((2, 2), padding='same',name=\"output\"))\n",
    "\n",
    "# at this point the representation is (4, 4, 8) i.e. 128-dimensional\n",
    "\n",
    "autoencoder.add(Conv2D(8, (3, 3), activation='relu', padding='same'))\n",
    "autoencoder.add(UpSampling2D((2, 2)))\n",
    "autoencoder.add(Conv2D(8, (3, 3), activation='relu', padding='same'))\n",
    "autoencoder.add(UpSampling2D((2, 2)))\n",
    "autoencoder.add(Conv2D(16, (3, 3), activation='relu'))\n",
    "autoencoder.add(UpSampling2D((2, 2)))\n",
    "autoencoder.add(Conv2D(1, (3, 3), activation='sigmoid', padding='same'))"
   ]
  },
  {
   "cell_type": "code",
   "execution_count": 17,
   "metadata": {},
   "outputs": [],
   "source": [
    "#auto encoder compilation \n",
    "autoencoder.compile(loss='mean_squared_error', optimizer = RMSprop())"
   ]
  },
  {
   "cell_type": "code",
   "execution_count": 18,
   "metadata": {},
   "outputs": [
    {
     "name": "stdout",
     "output_type": "stream",
     "text": [
      "Train on 48000 samples, validate on 12000 samples\n",
      "Epoch 1/100\n",
      "48000/48000 [==============================] - 23s 475us/step - loss: 0.0359 - val_loss: 0.0254\n",
      "Epoch 2/100\n",
      "48000/48000 [==============================] - 6s 118us/step - loss: 0.0246 - val_loss: 0.0242\n",
      "Epoch 3/100\n",
      "48000/48000 [==============================] - 6s 118us/step - loss: 0.0222 - val_loss: 0.0216\n",
      "Epoch 4/100\n",
      "48000/48000 [==============================] - 6s 118us/step - loss: 0.0207 - val_loss: 0.0195\n",
      "Epoch 5/100\n",
      "48000/48000 [==============================] - 6s 118us/step - loss: 0.0197 - val_loss: 0.0185\n",
      "Epoch 6/100\n",
      "48000/48000 [==============================] - 6s 119us/step - loss: 0.0188 - val_loss: 0.0180\n",
      "Epoch 7/100\n",
      "48000/48000 [==============================] - 6s 118us/step - loss: 0.0182 - val_loss: 0.0198\n",
      "Epoch 8/100\n",
      "48000/48000 [==============================] - 6s 119us/step - loss: 0.0177 - val_loss: 0.0177\n",
      "Epoch 9/100\n",
      "48000/48000 [==============================] - 6s 119us/step - loss: 0.0172 - val_loss: 0.0165\n",
      "Epoch 10/100\n",
      "48000/48000 [==============================] - 6s 120us/step - loss: 0.0168 - val_loss: 0.0160\n",
      "Epoch 11/100\n",
      "48000/48000 [==============================] - 6s 120us/step - loss: 0.0165 - val_loss: 0.0175\n",
      "Epoch 12/100\n",
      "48000/48000 [==============================] - 6s 120us/step - loss: 0.0162 - val_loss: 0.0172\n",
      "Epoch 13/100\n",
      "48000/48000 [==============================] - 6s 120us/step - loss: 0.0160 - val_loss: 0.0160\n",
      "Epoch 14/100\n",
      "48000/48000 [==============================] - 6s 120us/step - loss: 0.0158 - val_loss: 0.0147\n",
      "Epoch 15/100\n",
      "48000/48000 [==============================] - 6s 120us/step - loss: 0.0156 - val_loss: 0.0163\n",
      "Epoch 16/100\n",
      "48000/48000 [==============================] - 6s 119us/step - loss: 0.0154 - val_loss: 0.0151\n",
      "Epoch 17/100\n",
      "48000/48000 [==============================] - 6s 119us/step - loss: 0.0152 - val_loss: 0.0142\n",
      "Epoch 18/100\n",
      "48000/48000 [==============================] - 6s 120us/step - loss: 0.0151 - val_loss: 0.0142\n",
      "Epoch 19/100\n",
      "48000/48000 [==============================] - 6s 120us/step - loss: 0.0150 - val_loss: 0.0156\n",
      "Epoch 20/100\n",
      "48000/48000 [==============================] - 6s 121us/step - loss: 0.0148 - val_loss: 0.0144\n",
      "Epoch 21/100\n",
      "48000/48000 [==============================] - 6s 121us/step - loss: 0.0147 - val_loss: 0.0137\n",
      "Epoch 22/100\n",
      "48000/48000 [==============================] - 6s 120us/step - loss: 0.0146 - val_loss: 0.0138\n",
      "Epoch 23/100\n",
      "48000/48000 [==============================] - 6s 121us/step - loss: 0.0144 - val_loss: 0.0138\n",
      "Epoch 24/100\n",
      "48000/48000 [==============================] - 6s 123us/step - loss: 0.0143 - val_loss: 0.0142\n",
      "Epoch 25/100\n",
      "48000/48000 [==============================] - 6s 122us/step - loss: 0.0142 - val_loss: 0.0140\n",
      "Epoch 26/100\n",
      "48000/48000 [==============================] - 6s 126us/step - loss: 0.0141 - val_loss: 0.0138\n",
      "Epoch 27/100\n",
      "48000/48000 [==============================] - 6s 126us/step - loss: 0.0140 - val_loss: 0.0135\n",
      "Epoch 28/100\n",
      "48000/48000 [==============================] - 6s 125us/step - loss: 0.0139 - val_loss: 0.0148\n",
      "Epoch 29/100\n",
      "48000/48000 [==============================] - 6s 119us/step - loss: 0.0138 - val_loss: 0.0137\n",
      "Epoch 30/100\n",
      "48000/48000 [==============================] - 6s 119us/step - loss: 0.0137 - val_loss: 0.0136\n",
      "Epoch 31/100\n",
      "48000/48000 [==============================] - 6s 119us/step - loss: 0.0137 - val_loss: 0.0146\n",
      "Epoch 32/100\n",
      "48000/48000 [==============================] - 6s 119us/step - loss: 0.0136 - val_loss: 0.0132\n",
      "Epoch 33/100\n",
      "48000/48000 [==============================] - 6s 119us/step - loss: 0.0135 - val_loss: 0.0129\n",
      "Epoch 34/100\n",
      "48000/48000 [==============================] - 6s 121us/step - loss: 0.0135 - val_loss: 0.0140\n",
      "Epoch 35/100\n",
      "48000/48000 [==============================] - 6s 119us/step - loss: 0.0134 - val_loss: 0.0131\n",
      "Epoch 36/100\n",
      "48000/48000 [==============================] - 6s 119us/step - loss: 0.0133 - val_loss: 0.0125\n",
      "Epoch 37/100\n",
      "48000/48000 [==============================] - 6s 120us/step - loss: 0.0133 - val_loss: 0.0127\n",
      "Epoch 38/100\n",
      "48000/48000 [==============================] - 6s 119us/step - loss: 0.0132 - val_loss: 0.0124\n",
      "Epoch 39/100\n",
      "48000/48000 [==============================] - 6s 119us/step - loss: 0.0131 - val_loss: 0.0134\n",
      "Epoch 40/100\n",
      "48000/48000 [==============================] - 6s 118us/step - loss: 0.0131 - val_loss: 0.0128\n",
      "Epoch 41/100\n",
      "48000/48000 [==============================] - 6s 118us/step - loss: 0.0130 - val_loss: 0.0125\n",
      "Epoch 42/100\n",
      "48000/48000 [==============================] - 6s 118us/step - loss: 0.0130 - val_loss: 0.0130\n",
      "Epoch 43/100\n",
      "48000/48000 [==============================] - 6s 118us/step - loss: 0.0129 - val_loss: 0.0125\n",
      "Epoch 44/100\n",
      "48000/48000 [==============================] - 6s 117us/step - loss: 0.0129 - val_loss: 0.0124\n",
      "Epoch 45/100\n",
      "48000/48000 [==============================] - 6s 118us/step - loss: 0.0128 - val_loss: 0.0139\n",
      "Epoch 46/100\n",
      "48000/48000 [==============================] - 6s 119us/step - loss: 0.0128 - val_loss: 0.0127\n",
      "Epoch 47/100\n",
      "48000/48000 [==============================] - 6s 117us/step - loss: 0.0128 - val_loss: 0.0120\n",
      "Epoch 48/100\n",
      "48000/48000 [==============================] - 6s 117us/step - loss: 0.0127 - val_loss: 0.0124\n",
      "Epoch 49/100\n",
      "48000/48000 [==============================] - 6s 117us/step - loss: 0.0127 - val_loss: 0.0130\n",
      "Epoch 50/100\n",
      "48000/48000 [==============================] - 6s 117us/step - loss: 0.0127 - val_loss: 0.0125\n",
      "Epoch 51/100\n",
      "48000/48000 [==============================] - 6s 120us/step - loss: 0.0126 - val_loss: 0.0131\n",
      "Epoch 52/100\n",
      "48000/48000 [==============================] - 7s 136us/step - loss: 0.0126 - val_loss: 0.0130\n",
      "Epoch 53/100\n",
      "48000/48000 [==============================] - 7s 145us/step - loss: 0.0126 - val_loss: 0.0125\n",
      "Epoch 54/100\n",
      "48000/48000 [==============================] - 7s 137us/step - loss: 0.0125 - val_loss: 0.0134\n",
      "Epoch 55/100\n",
      "48000/48000 [==============================] - 7s 137us/step - loss: 0.0125 - val_loss: 0.0130\n",
      "Epoch 56/100\n",
      "48000/48000 [==============================] - 6s 123us/step - loss: 0.0125 - val_loss: 0.0120\n",
      "Epoch 57/100\n",
      "48000/48000 [==============================] - 6s 120us/step - loss: 0.0125 - val_loss: 0.0122\n",
      "Epoch 58/100\n",
      "48000/48000 [==============================] - 6s 122us/step - loss: 0.0124 - val_loss: 0.0123\n",
      "Epoch 59/100\n",
      "48000/48000 [==============================] - 6s 127us/step - loss: 0.0124 - val_loss: 0.0122\n",
      "Epoch 60/100\n",
      "48000/48000 [==============================] - 6s 122us/step - loss: 0.0124 - val_loss: 0.0119\n",
      "Epoch 61/100\n",
      "48000/48000 [==============================] - 6s 119us/step - loss: 0.0124 - val_loss: 0.0120\n",
      "Epoch 62/100\n",
      "48000/48000 [==============================] - 6s 119us/step - loss: 0.0123 - val_loss: 0.0122\n",
      "Epoch 63/100\n",
      "48000/48000 [==============================] - 6s 119us/step - loss: 0.0123 - val_loss: 0.0123\n",
      "Epoch 64/100\n",
      "48000/48000 [==============================] - 6s 119us/step - loss: 0.0123 - val_loss: 0.0127\n",
      "Epoch 65/100\n",
      "48000/48000 [==============================] - 6s 119us/step - loss: 0.0123 - val_loss: 0.0117\n",
      "Epoch 66/100\n",
      "48000/48000 [==============================] - 6s 119us/step - loss: 0.0123 - val_loss: 0.0119\n",
      "Epoch 67/100\n",
      "48000/48000 [==============================] - 6s 119us/step - loss: 0.0122 - val_loss: 0.0117\n",
      "Epoch 68/100\n",
      "48000/48000 [==============================] - 6s 119us/step - loss: 0.0122 - val_loss: 0.0128\n",
      "Epoch 69/100\n",
      "48000/48000 [==============================] - 6s 119us/step - loss: 0.0122 - val_loss: 0.0114\n",
      "Epoch 70/100\n",
      "48000/48000 [==============================] - 6s 119us/step - loss: 0.0122 - val_loss: 0.0122\n",
      "Epoch 71/100\n",
      "48000/48000 [==============================] - 6s 120us/step - loss: 0.0122 - val_loss: 0.0119\n",
      "Epoch 72/100\n",
      "48000/48000 [==============================] - 6s 120us/step - loss: 0.0122 - val_loss: 0.0126\n",
      "Epoch 73/100\n",
      "48000/48000 [==============================] - 6s 119us/step - loss: 0.0121 - val_loss: 0.0121\n",
      "Epoch 74/100\n",
      "48000/48000 [==============================] - 6s 120us/step - loss: 0.0121 - val_loss: 0.0116\n",
      "Epoch 75/100\n",
      "48000/48000 [==============================] - 6s 121us/step - loss: 0.0121 - val_loss: 0.0122\n",
      "Epoch 76/100\n",
      "48000/48000 [==============================] - 6s 121us/step - loss: 0.0121 - val_loss: 0.0125\n",
      "Epoch 77/100\n",
      "48000/48000 [==============================] - 6s 121us/step - loss: 0.0121 - val_loss: 0.0118\n",
      "Epoch 78/100\n",
      "48000/48000 [==============================] - 6s 121us/step - loss: 0.0120 - val_loss: 0.0116\n",
      "Epoch 79/100\n",
      "48000/48000 [==============================] - 6s 121us/step - loss: 0.0120 - val_loss: 0.0124\n",
      "Epoch 80/100\n",
      "48000/48000 [==============================] - 6s 121us/step - loss: 0.0120 - val_loss: 0.0116\n",
      "Epoch 81/100\n",
      "48000/48000 [==============================] - 6s 121us/step - loss: 0.0120 - val_loss: 0.0122\n",
      "Epoch 82/100\n",
      "48000/48000 [==============================] - 6s 121us/step - loss: 0.0120 - val_loss: 0.0138\n",
      "Epoch 83/100\n",
      "48000/48000 [==============================] - 6s 121us/step - loss: 0.0120 - val_loss: 0.0119\n",
      "Epoch 84/100\n",
      "48000/48000 [==============================] - 6s 120us/step - loss: 0.0120 - val_loss: 0.0117\n",
      "Epoch 85/100\n",
      "48000/48000 [==============================] - 6s 121us/step - loss: 0.0119 - val_loss: 0.0127\n",
      "Epoch 86/100\n",
      "48000/48000 [==============================] - 6s 121us/step - loss: 0.0119 - val_loss: 0.0112\n",
      "Epoch 87/100\n",
      "48000/48000 [==============================] - 6s 121us/step - loss: 0.0119 - val_loss: 0.0118\n",
      "Epoch 88/100\n",
      "48000/48000 [==============================] - 6s 121us/step - loss: 0.0119 - val_loss: 0.0117\n",
      "Epoch 89/100\n",
      "48000/48000 [==============================] - 6s 121us/step - loss: 0.0119 - val_loss: 0.0118\n",
      "Epoch 90/100\n",
      "48000/48000 [==============================] - 6s 121us/step - loss: 0.0119 - val_loss: 0.0118\n",
      "Epoch 91/100\n",
      "48000/48000 [==============================] - 6s 121us/step - loss: 0.0119 - val_loss: 0.0121\n",
      "Epoch 92/100\n",
      "48000/48000 [==============================] - 6s 124us/step - loss: 0.0118 - val_loss: 0.0117\n",
      "Epoch 93/100\n",
      "48000/48000 [==============================] - 6s 121us/step - loss: 0.0118 - val_loss: 0.0124\n",
      "Epoch 94/100\n",
      "48000/48000 [==============================] - 6s 121us/step - loss: 0.0118 - val_loss: 0.0121\n",
      "Epoch 95/100\n",
      "48000/48000 [==============================] - 6s 121us/step - loss: 0.0118 - val_loss: 0.0116\n",
      "Epoch 96/100\n",
      "48000/48000 [==============================] - 6s 121us/step - loss: 0.0118 - val_loss: 0.0120\n",
      "Epoch 97/100\n",
      "48000/48000 [==============================] - 6s 121us/step - loss: 0.0118 - val_loss: 0.0123\n",
      "Epoch 98/100\n",
      "48000/48000 [==============================] - 6s 120us/step - loss: 0.0118 - val_loss: 0.0113\n",
      "Epoch 99/100\n",
      "48000/48000 [==============================] - 6s 121us/step - loss: 0.0118 - val_loss: 0.0112\n",
      "Epoch 100/100\n",
      "48000/48000 [==============================] - 6s 121us/step - loss: 0.0117 - val_loss: 0.0112\n"
     ]
    }
   ],
   "source": [
    "#training \n",
    "autoencoder_train = autoencoder.fit(train_set, train_out, batch_size=64,epochs=100,verbose=1,validation_data=(val_set, val_out))"
   ]
  },
  {
   "cell_type": "code",
   "execution_count": 19,
   "metadata": {},
   "outputs": [
    {
     "name": "stdout",
     "output_type": "stream",
     "text": [
      "_________________________________________________________________\n",
      "Layer (type)                 Output Shape              Param #   \n",
      "=================================================================\n",
      "conv2d_1 (Conv2D)            (None, 28, 28, 16)        160       \n",
      "_________________________________________________________________\n",
      "max_pooling2d_1 (MaxPooling2 (None, 14, 14, 16)        0         \n",
      "_________________________________________________________________\n",
      "conv2d_2 (Conv2D)            (None, 14, 14, 8)         1160      \n",
      "_________________________________________________________________\n",
      "max_pooling2d_2 (MaxPooling2 (None, 7, 7, 8)           0         \n",
      "_________________________________________________________________\n",
      "conv2d_3 (Conv2D)            (None, 7, 7, 8)           584       \n",
      "_________________________________________________________________\n",
      "output (MaxPooling2D)        (None, 4, 4, 8)           0         \n",
      "_________________________________________________________________\n",
      "conv2d_4 (Conv2D)            (None, 4, 4, 8)           584       \n",
      "_________________________________________________________________\n",
      "up_sampling2d_1 (UpSampling2 (None, 8, 8, 8)           0         \n",
      "_________________________________________________________________\n",
      "conv2d_5 (Conv2D)            (None, 8, 8, 8)           584       \n",
      "_________________________________________________________________\n",
      "up_sampling2d_2 (UpSampling2 (None, 16, 16, 8)         0         \n",
      "_________________________________________________________________\n",
      "conv2d_6 (Conv2D)            (None, 14, 14, 16)        1168      \n",
      "_________________________________________________________________\n",
      "up_sampling2d_3 (UpSampling2 (None, 28, 28, 16)        0         \n",
      "_________________________________________________________________\n",
      "conv2d_7 (Conv2D)            (None, 28, 28, 1)         145       \n",
      "=================================================================\n",
      "Total params: 4,385\n",
      "Trainable params: 4,385\n",
      "Non-trainable params: 0\n",
      "_________________________________________________________________\n"
     ]
    }
   ],
   "source": [
    "autoencoder.summary()"
   ]
  },
  {
   "cell_type": "code",
   "execution_count": 20,
   "metadata": {},
   "outputs": [],
   "source": [
    "#building the encoder from the auto encoder\n",
    "encoder = Model(inputs=autoencoder.input, outputs=autoencoder.get_layer('output').output)"
   ]
  },
  {
   "cell_type": "code",
   "execution_count": 31,
   "metadata": {},
   "outputs": [],
   "source": [
    "#Kmeans classification with the condensed data \n",
    "kmeans=KMeans( n_clusters = 10).fit(encoder.predict(X_train1).reshape(X_train1.shape[0],-1))"
   ]
  },
  {
   "cell_type": "code",
   "execution_count": 32,
   "metadata": {},
   "outputs": [],
   "source": [
    "#prediction of encoded data \n",
    "encoded= encoder.predict(X_test1)"
   ]
  },
  {
   "cell_type": "code",
   "execution_count": 33,
   "metadata": {},
   "outputs": [
    {
     "name": "stdout",
     "output_type": "stream",
     "text": [
      "(10000, 4, 4, 8)\n"
     ]
    }
   ],
   "source": [
    "print(encoded.shape)"
   ]
  },
  {
   "cell_type": "code",
   "execution_count": 34,
   "metadata": {},
   "outputs": [],
   "source": [
    "#prediction of encoded clusters using kmeans \n",
    "y_pred = kmeans.predict(encoded.reshape(X_test1.shape[0],-1))"
   ]
  },
  {
   "cell_type": "code",
   "execution_count": 35,
   "metadata": {},
   "outputs": [
    {
     "name": "stdout",
     "output_type": "stream",
     "text": [
      "(10000,)\n"
     ]
    }
   ],
   "source": [
    "print(y_pred.shape)"
   ]
  },
  {
   "cell_type": "code",
   "execution_count": 54,
   "metadata": {},
   "outputs": [
    {
     "data": {
      "image/png": "[encoded data removed]",
      "text/plain": [
       "<Figure size 432x288 with 1 Axes>"
      ]
     },
     "metadata": {},
     "output_type": "display_data"
    }
   ],
   "source": [
    "#auto encoder loss vs epochs graph\n",
    "import matplotlib.pyplot as plt\n",
    "plt.plot(autoencoder.history.history['loss'])\n",
    "plt.plot(autoencoder.history.history['val_loss'])\n",
    "plt.title(\"Loss vs Epoch\")\n",
    "plt.ylabel(\"Loss\")\n",
    "plt.xlabel(\"epoch\")\n",
    "plt.legend(['train', 'test'], loc='upper left')\n",
    "plt.show()"
   ]
  },
  {
   "cell_type": "code",
   "execution_count": 49,
   "metadata": {},
   "outputs": [],
   "source": [
    "#confusion matrix for autoencoder based kmeans classification\n",
    "cm_k= metrics.confusion_matrix(y_test, y_pred)"
   ]
  },
  {
   "cell_type": "code",
   "execution_count": 50,
   "metadata": {},
   "outputs": [
    {
     "name": "stdout",
     "output_type": "stream",
     "text": [
      "[[433  30 237   2  41   3 249   2   3   0]\n",
      " [ 32 776  25   0   6   0 161   0   0   0]\n",
      " [ 18   4 323   3 427   1 221   0   3   0]\n",
      " [260 412  68   1   5   0 252   0   2   0]\n",
      " [123  24 266   2 477   0 103   0   5   0]\n",
      " [  0   0   6   3   0 720  29 134   1 107]\n",
      " [126  20 306  12 233   7 294   1   1   0]\n",
      " [  0   0   0   2   0 284   0 699   0  15]\n",
      " [  1   4  39 305  56  57  83  57 398   0]\n",
      " [  4   1   5   2   7  53   2 204   0 722]]\n"
     ]
    }
   ],
   "source": [
    "cm_k2= conf_mat(cm_k)\n",
    "print(cm_k2)"
   ]
  },
  {
   "cell_type": "code",
   "execution_count": 52,
   "metadata": {},
   "outputs": [],
   "source": [
    "#Gmm model initialization \n",
    "gmm = GaussianMixture(n_components=10, covariance_type='full', init_params='kmeans',   random_state=12 )"
   ]
  },
  {
   "cell_type": "code",
   "execution_count": 53,
   "metadata": {},
   "outputs": [
    {
     "data": {
      "text/plain": [
       "GaussianMixture(covariance_type='full', init_params='kmeans', max_iter=100,\n",
       "        means_init=None, n_components=10, n_init=1, precisions_init=None,\n",
       "        random_state=12, reg_covar=1e-06, tol=0.001, verbose=0,\n",
       "        verbose_interval=10, warm_start=False, weights_init=None)"
      ]
     },
     "execution_count": 53,
     "metadata": {},
     "output_type": "execute_result"
    }
   ],
   "source": [
    "#GMM model fitting \n",
    "gmm.fit((encoder.predict(X_train1)).reshape(X_train1.shape[0],-1))"
   ]
  },
  {
   "cell_type": "code",
   "execution_count": 56,
   "metadata": {},
   "outputs": [],
   "source": [
    "#GMM model prediction \n",
    "y_gmm= gmm.predict(encoded.reshape(X_test1.shape[0],-1))"
   ]
  },
  {
   "cell_type": "code",
   "execution_count": 57,
   "metadata": {},
   "outputs": [
    {
     "data": {
      "text/plain": [
       "array([6, 5, 4, ..., 0, 4, 6], dtype=int64)"
      ]
     },
     "execution_count": 57,
     "metadata": {},
     "output_type": "execute_result"
    }
   ],
   "source": [
    "y_gmm"
   ]
  },
  {
   "cell_type": "code",
   "execution_count": 58,
   "metadata": {},
   "outputs": [
    {
     "name": "stdout",
     "output_type": "stream",
     "text": [
      "0.5633530549589136\n"
     ]
    }
   ],
   "source": [
    "print(metrics.normalized_mutual_info_score(y_test,y_gmm))"
   ]
  },
  {
   "cell_type": "code",
   "execution_count": 59,
   "metadata": {},
   "outputs": [],
   "source": [
    "#confusion matrix for GMM Clustering \n",
    "cm_g= metrics.confusion_matrix(y_test, y_gmm)"
   ]
  },
  {
   "cell_type": "code",
   "execution_count": 60,
   "metadata": {},
   "outputs": [],
   "source": [
    "cm_g2 = conf_mat(cm_g)"
   ]
  },
  {
   "cell_type": "code",
   "execution_count": 64,
   "metadata": {},
   "outputs": [
    {
     "name": "stdout",
     "output_type": "stream",
     "text": [
      "[[674   7  40 128   9   0  93   0  49   0]\n",
      " [  0 862  16 104   1   0  12   0   5   0]\n",
      " [  7   0  56  50 735   0  48   0 104   0]\n",
      " [ 10 228 136 577  10   0  23   0  16   0]\n",
      " [  0   0  23 195 709   0  41   0  32   0]\n",
      " [  0   0   0   0   0 230  81 359   3 327]\n",
      " [167   2  50 144 442   0  74   0 121   0]\n",
      " [  0   0   0   0   0 306   1 671   1  21]\n",
      " [  0   0  93   3   1   2  42   2 857   0]\n",
      " [  0   0   0   0   0 278  19  10   0 693]]\n"
     ]
    }
   ],
   "source": [
    "print(cm_g2)"
   ]
  },
  {
   "cell_type": "code",
   "execution_count": 62,
   "metadata": {},
   "outputs": [],
   "source": [
    "#Accuracy for The THREE MODELS \n",
    "kmeans_acc=(np.trace(cm_k2)/np.sum(cm_k2))\n",
    "kmeansbasis_acc=(np.trace(cm_kb2)/np.sum(cm_kb2))\n",
    "gmm_acc=(np.trace(cm_g2)/np.sum(cm_g2))"
   ]
  },
  {
   "cell_type": "code",
   "execution_count": 63,
   "metadata": {},
   "outputs": [
    {
     "name": "stdout",
     "output_type": "stream",
     "text": [
      "K Means Basis Accuracy: 48.26\n",
      "K Means Accuracy: 48.43\n",
      "GMM Accuracy: 54.03\n"
     ]
    }
   ],
   "source": [
    "print(\"K Means Basis Accuracy:\", kmeansbasis_acc*100 )\n",
    "print(\"K Means Accuracy:\", kmeans_acc*100 )\n",
    "print(\"GMM Accuracy:\", gmm_acc*100 )"
   ]
  },
  {
   "cell_type": "code",
   "execution_count": null,
   "metadata": {},
   "outputs": [],
   "source": []
  }
 ],
 "metadata": {
  "kernelspec": {
   "display_name": "Python 3",
   "language": "python",
   "name": "python3"
  },
  "language_info": {
   "codemirror_mode": {
    "name": "ipython",
    "version": 3
   },
   "file_extension": ".py",
   "mimetype": "text/x-python",
   "name": "python",
   "nbconvert_exporter": "python",
   "pygments_lexer": "ipython3",
   "version": "3.6.5"
  }
 },
 "nbformat": 4,
 "nbformat_minor": 2
}
